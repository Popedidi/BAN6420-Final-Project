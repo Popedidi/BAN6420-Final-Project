{
 "cells": [
  {
   "cell_type": "code",
   "execution_count": null,
   "metadata": {},
   "outputs": [],
   "source": [
    "# Import necessary libraries\n",
    "import pandas as pd\n",
    "\n",
    "# Load the CSV file into a DataFrame\n",
    "df = pd.read_csv('user_data.csv')\n",
    "\n",
    "# Display the DataFrame to verify the data\n",
    "df.head()\n"
   ]
  },
  {
   "cell_type": "code",
   "execution_count": null,
   "metadata": {},
   "outputs": [],
   "source": [
    "# Show the age groups with the highest total income\n",
    "df.groupby('Age')['Total Income'].sum().sort_values(ascending=False).plot(kind='bar', title='Total Income by Age')\n",
    "\n",
    "# Show the gender distribution across spending categories\n",
    "df.groupby('Gender').sum().drop(columns=['Age', 'Total Income']).plot(kind='bar', title='Spending by Gender')\n"
   ]
  },
  {
   "cell_type": "code",
   "execution_count": null,
   "metadata": {},
   "outputs": [],
   "source": [
    "# Group the data by age and sum the total income\n",
    "income_by_age = df.groupby('Age')['Total Income'].sum().sort_values(ascending=False)\n",
    "\n",
    "# Plot the chart\n",
    "income_by_age.plot(kind='bar', title='Total Income by Age')\n",
    "\n",
    "# Save the chart as an image file\n",
    "plt.savefig('total_income_by_age.png')\n",
    "\n",
    "# Show the plot (optional)\n",
    "plt.show()\n"
   ]
  },
  {
   "cell_type": "code",
   "execution_count": null,
   "metadata": {},
   "outputs": [],
   "source": [
    "# Group the data by gender and sum the spending categories\n",
    "spending_by_gender = df.groupby('Gender').sum().drop(columns=['Age', 'Total Income'])\n",
    "\n",
    "# Plot the chart\n",
    "spending_by_gender.plot(kind='bar', title='Spending by Gender')\n",
    "\n",
    "# Save the chart as an image file\n",
    "plt.savefig('spending_by_gender.png')\n",
    "\n",
    "# Show the plot (optional)\n",
    "plt.show()\n"
   ]
  }
 ],
 "metadata": {
  "language_info": {
   "name": "python"
  }
 },
 "nbformat": 4,
 "nbformat_minor": 2
}
